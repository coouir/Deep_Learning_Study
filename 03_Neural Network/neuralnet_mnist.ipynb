{
 "cells": [
  {
   "cell_type": "code",
   "id": "initial_id",
   "metadata": {
    "collapsed": true,
    "ExecuteTime": {
     "end_time": "2025-08-04T02:50:11.641341Z",
     "start_time": "2025-08-04T02:50:11.638423Z"
    }
   },
   "source": [
    "import numpy as np\n",
    "import pickle\n",
    "from pathlib import Path\n",
    "from tensorflow.keras.datasets import mnist\n",
    "\n",
    "def _change_one_hot_label(X, num_classes=10):\n",
    "    return np.eye(num_classes)[X]\n",
    "\n",
    "def get_data(normalize=True, flatten=True, one_hot_label=False):\n",
    "    (x_train, t_train), (x_test, t_test) = mnist.load_data()\n",
    "    if normalize:\n",
    "        x_train = x_train.astype(np.float32) / 255.0\n",
    "        x_test = x_test.astype(np.float32) / 255.0\n",
    "    if flatten:\n",
    "        x_train = x_train.reshape(-1, 28 * 28)\n",
    "        x_test = x_test.reshape(-1, 28 * 28)\n",
    "    if one_hot_label:\n",
    "        t_train = _change_one_hot_label(t_train)\n",
    "        t_test = _change_one_hot_label(t_test)\n",
    "    return (x_train, t_train), (x_test, t_test)\n",
    "\n",
    "def init_network():\n",
    "    weight_path = Path.cwd() / 'sample_weight.pkl'\n",
    "    if not weight_path.exists():\n",
    "        raise FileNotFoundError(f\"Weight file not found at {weight_path.resolve()}\")\n",
    "    with open(weight_path, 'rb') as f:\n",
    "        network = pickle.load(f)\n",
    "    return network\n",
    "\n",
    "def sigmoid(x):\n",
    "    return 1 / (1 + np.exp(-x))\n",
    "\n",
    "def softmax(a):\n",
    "    c = np.max(a)  # 오버플로 대책\n",
    "    exp_a = np.exp(a - c)\n",
    "    sum_exp_a = np.sum(exp_a)\n",
    "    y = exp_a / sum_exp_a\n",
    "    return y\n",
    "\n",
    "def predict(network, x):\n",
    "    W1, W2, W3 = network['W1'], network['W2'], network['W3']\n",
    "    b1, b2, b3 = network['b1'], network['b2'], network['b3']\n",
    "\n",
    "    a1 = np.dot(x, W1) + b1\n",
    "    z1 = sigmoid(a1)\n",
    "    a2 = np.dot(z1, W2) + b2\n",
    "    z2 = sigmoid(a2)\n",
    "    a3 = np.dot(z2, W3) + b3\n",
    "    y = softmax(a3)\n",
    "\n",
    "    return y"
   ],
   "outputs": [],
   "execution_count": 25
  },
  {
   "metadata": {
    "ExecuteTime": {
     "end_time": "2025-08-04T02:50:38.469707Z",
     "start_time": "2025-08-04T02:50:38.175738Z"
    }
   },
   "cell_type": "code",
   "source": [
    "(x_train, t_train), (x_test, t_test) = get_data(normalize=True, flatten=True, one_hot_label=False)\n",
    "network = init_network()\n",
    "\n",
    "accuracy_int = 0\n",
    "for i in range(len(x_test)):\n",
    "    y = predict(network, x_test[i])\n",
    "    p = np.argmax(y)\n",
    "    if p == t_test[i]:\n",
    "        accuracy_int += 1\n",
    "\n",
    "print(\"Accuracy:\" + str(accuracy_int / len(x_test)))"
   ],
   "id": "c2358fbb3b2e702a",
   "outputs": [
    {
     "name": "stdout",
     "output_type": "stream",
     "text": [
      "Accuracy:0.9352\n"
     ]
    }
   ],
   "execution_count": 26
  },
  {
   "metadata": {},
   "cell_type": "code",
   "outputs": [],
   "execution_count": null,
   "source": "",
   "id": "587741e6d7b7115d"
  }
 ],
 "metadata": {
  "kernelspec": {
   "display_name": "Python 3",
   "language": "python",
   "name": "python3"
  },
  "language_info": {
   "codemirror_mode": {
    "name": "ipython",
    "version": 2
   },
   "file_extension": ".py",
   "mimetype": "text/x-python",
   "name": "python",
   "nbconvert_exporter": "python",
   "pygments_lexer": "ipython2",
   "version": "2.7.6"
  }
 },
 "nbformat": 4,
 "nbformat_minor": 5
}
