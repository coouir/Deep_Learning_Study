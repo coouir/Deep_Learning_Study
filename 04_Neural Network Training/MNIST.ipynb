{
 "cells": [
  {
   "cell_type": "code",
   "id": "initial_id",
   "metadata": {
    "collapsed": true,
    "ExecuteTime": {
     "end_time": "2025-08-05T04:43:37.198690Z",
     "start_time": "2025-08-05T04:43:37.041186Z"
    }
   },
   "source": [
    "from tensorflow.keras.datasets import mnist\n",
    "import numpy as np\n",
    "from PIL import Image\n",
    "\n",
    "def _change_one_hot_label(X, num_classes=10):\n",
    "    return np.eye(num_classes)[X]\n",
    "\n",
    "def get_data(normalize=True, flatten=True, one_hot_label=False):\n",
    "    (x_train, t_train), (x_test, t_test) = mnist.load_data()\n",
    "    if normalize:\n",
    "        x_train = x_train.astype(np.float32) / 255.0\n",
    "        x_test = x_test.astype(np.float32) / 255.0\n",
    "    if flatten:\n",
    "        x_train = x_train.reshape(-1, 28 * 28)\n",
    "        x_test = x_test.reshape(-1, 28 * 28)\n",
    "    if one_hot_label:\n",
    "        t_train = _change_one_hot_label(t_train)\n",
    "        t_test = _change_one_hot_label(t_test)\n",
    "    return (x_train, t_train), (x_test, t_test)\n",
    "\n",
    "(x_train, t_train), (x_test, t_test) = get_data(normalize=True, flatten=True, one_hot_label=True)\n",
    "\n",
    "print(x_train.shape)\n",
    "print(t_train.shape)\n",
    "print(x_test.shape)\n",
    "print(t_test.shape)\n",
    "\n"
   ],
   "outputs": [
    {
     "name": "stdout",
     "output_type": "stream",
     "text": [
      "(60000, 784)\n",
      "(60000, 10)\n",
      "(10000, 784)\n",
      "(10000, 10)\n"
     ]
    }
   ],
   "execution_count": 13
  },
  {
   "metadata": {
    "ExecuteTime": {
     "end_time": "2025-08-05T04:43:44.251127Z",
     "start_time": "2025-08-05T04:43:44.248752Z"
    }
   },
   "cell_type": "code",
   "source": [
    "train_size = x_train.shape[0]\n",
    "batch_size = 10\n",
    "batch_mask = np.random.choice(train_size, batch_size)\n",
    "x_batch = x_train[batch_mask]\n",
    "t_batch = t_train[batch_mask]\n",
    "\n",
    "print(t_batch)"
   ],
   "id": "ae6011a0b1aeaf25",
   "outputs": [
    {
     "name": "stdout",
     "output_type": "stream",
     "text": [
      "[[0. 0. 0. 0. 0. 0. 0. 0. 0. 1.]\n",
      " [0. 0. 0. 1. 0. 0. 0. 0. 0. 0.]\n",
      " [0. 0. 0. 1. 0. 0. 0. 0. 0. 0.]\n",
      " [1. 0. 0. 0. 0. 0. 0. 0. 0. 0.]\n",
      " [0. 0. 0. 0. 1. 0. 0. 0. 0. 0.]\n",
      " [0. 0. 0. 0. 0. 0. 0. 1. 0. 0.]\n",
      " [0. 0. 0. 0. 0. 1. 0. 0. 0. 0.]\n",
      " [0. 0. 1. 0. 0. 0. 0. 0. 0. 0.]\n",
      " [1. 0. 0. 0. 0. 0. 0. 0. 0. 0.]\n",
      " [0. 0. 0. 0. 0. 0. 0. 0. 1. 0.]]\n"
     ]
    }
   ],
   "execution_count": 15
  },
  {
   "metadata": {
    "ExecuteTime": {
     "end_time": "2025-08-05T04:48:13.768528Z",
     "start_time": "2025-08-05T04:48:13.765579Z"
    }
   },
   "cell_type": "code",
   "source": [
    "# one-hot encoding\n",
    "def cross_entropy_error(y, t):\n",
    "    if y.ndim == 1:\n",
    "        t = t.reshape(1, t.size)\n",
    "        y = y.reshape(1, y.size)\n",
    "\n",
    "    batch_size = y.shape[0]\n",
    "    return -np.sum(t * np.log(y + 1e-7)) / batch_size"
   ],
   "id": "8673bcf2796a7c95",
   "outputs": [],
   "execution_count": 16
  },
  {
   "metadata": {
    "ExecuteTime": {
     "end_time": "2025-08-05T05:31:47.773810Z",
     "start_time": "2025-08-05T05:31:47.771226Z"
    }
   },
   "cell_type": "code",
   "source": [
    "# one-hot encoding x\n",
    "def cross_entropy_error(y, t):\n",
    "    if y.ndim == 1:\n",
    "        t = t.reshape(1, t.size)\n",
    "        y = y.reshpae(1, y.size)\n",
    "\n",
    "    batch_size = y.shape[0]\n",
    "    return -np.sum(np.log(y[np.arange(batch_size), t] + 1e-7)) / batch_size"
   ],
   "id": "4875ad3b6d6841d8",
   "outputs": [],
   "execution_count": 17
  },
  {
   "metadata": {},
   "cell_type": "code",
   "outputs": [],
   "execution_count": null,
   "source": "",
   "id": "34e1c6a5af8a881b"
  }
 ],
 "metadata": {
  "kernelspec": {
   "display_name": "Python 3",
   "language": "python",
   "name": "python3"
  },
  "language_info": {
   "codemirror_mode": {
    "name": "ipython",
    "version": 2
   },
   "file_extension": ".py",
   "mimetype": "text/x-python",
   "name": "python",
   "nbconvert_exporter": "python",
   "pygments_lexer": "ipython2",
   "version": "2.7.6"
  }
 },
 "nbformat": 4,
 "nbformat_minor": 5
}
