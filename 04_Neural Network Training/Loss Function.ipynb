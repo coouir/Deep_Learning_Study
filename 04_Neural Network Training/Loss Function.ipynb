{
 "cells": [
  {
   "metadata": {},
   "cell_type": "markdown",
   "source": "# Sum of Squares for Error",
   "id": "9b9606e07901a1f"
  },
  {
   "cell_type": "code",
   "id": "initial_id",
   "metadata": {
    "collapsed": true,
    "ExecuteTime": {
     "end_time": "2025-08-05T04:21:46.612110Z",
     "start_time": "2025-08-05T04:21:46.563382Z"
    }
   },
   "source": [
    "import numpy as np\n",
    "\n",
    "def sum_squares_error(y, t):\n",
    "    return 0.5 * np.sum((y - t) ** 2)"
   ],
   "outputs": [],
   "execution_count": 1
  },
  {
   "metadata": {
    "ExecuteTime": {
     "end_time": "2025-08-05T04:25:19.511226Z",
     "start_time": "2025-08-05T04:25:19.508448Z"
    }
   },
   "cell_type": "code",
   "source": [
    "t = np.array([0, 0, 1, 0, 0, 0, 0, 0, 0, 0])\n",
    "\n",
    "# 2일 확률이 가장 높다고 추정\n",
    "y = np.array([0.1, 0.05, 0.6, 0.0, 0.05, 0.1, 0.0, 0.1, 0.0, 0.0])\n",
    "print(sum_squares_error(y, t))\n",
    "\n",
    "# 7일 확률이 가장 높다고 추정\n",
    "y = np.array([0.1, 0.05, 0.1, 0.0, 0.05, 0.1, 0.0, 0.6, 0.0, 0.0])\n",
    "print(sum_squares_error(y, t))"
   ],
   "id": "d502330ada4e19fb",
   "outputs": [
    {
     "name": "stdout",
     "output_type": "stream",
     "text": [
      "0.09750000000000003\n",
      "0.5975\n"
     ]
    }
   ],
   "execution_count": 6
  },
  {
   "metadata": {},
   "cell_type": "markdown",
   "source": "# Cross Entropy Error",
   "id": "437091a46d6cc58c"
  },
  {
   "metadata": {
    "ExecuteTime": {
     "end_time": "2025-08-05T04:30:56.664037Z",
     "start_time": "2025-08-05T04:30:56.662087Z"
    }
   },
   "cell_type": "code",
   "source": [
    "import numpy as np\n",
    "\n",
    "def cross_entropy_error(y, t):\n",
    "    delta = 1e-7 # 0을 입력하면 -inf가 되기 때문에 이를 방지함.\n",
    "    return -np.sum(t * np.log(y + delta))"
   ],
   "id": "b332ee48a50e18d8",
   "outputs": [],
   "execution_count": 8
  },
  {
   "metadata": {
    "ExecuteTime": {
     "end_time": "2025-08-05T04:31:22.083983Z",
     "start_time": "2025-08-05T04:31:22.081931Z"
    }
   },
   "cell_type": "code",
   "source": [
    "t = np.array([0, 0, 1, 0, 0, 0, 0, 0, 0, 0])\n",
    "\n",
    "# 2일 확률이 가장 높다고 추정\n",
    "y = np.array([0.1, 0.05, 0.6, 0.0, 0.05, 0.1, 0.0, 0.1, 0.0, 0.0])\n",
    "print(cross_entropy_error(y, t))\n",
    "\n",
    "# 7일 확률이 가장 높다고 추정\n",
    "y = np.array([0.1, 0.05, 0.1, 0.0, 0.05, 0.1, 0.0, 0.6, 0.0, 0.0])\n",
    "print(cross_entropy_error(y, t))"
   ],
   "id": "2fe15d830526ec",
   "outputs": [
    {
     "name": "stdout",
     "output_type": "stream",
     "text": [
      "0.510825457099338\n",
      "2.302584092994546\n"
     ]
    }
   ],
   "execution_count": 9
  },
  {
   "metadata": {},
   "cell_type": "code",
   "outputs": [],
   "execution_count": null,
   "source": "",
   "id": "b68ca8c6faaf513b"
  }
 ],
 "metadata": {
  "kernelspec": {
   "display_name": "Python 3",
   "language": "python",
   "name": "python3"
  },
  "language_info": {
   "codemirror_mode": {
    "name": "ipython",
    "version": 2
   },
   "file_extension": ".py",
   "mimetype": "text/x-python",
   "name": "python",
   "nbconvert_exporter": "python",
   "pygments_lexer": "ipython2",
   "version": "2.7.6"
  }
 },
 "nbformat": 4,
 "nbformat_minor": 5
}
